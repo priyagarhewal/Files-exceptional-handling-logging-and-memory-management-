{
  "nbformat": 4,
  "nbformat_minor": 0,
  "metadata": {
    "colab": {
      "provenance": []
    },
    "kernelspec": {
      "name": "python3",
      "display_name": "Python 3"
    },
    "language_info": {
      "name": "python"
    }
  },
  "cells": [
    {
      "cell_type": "markdown",
      "source": [
        "# Files, exceptional handling, logging and memory management Questions and answers\n"
      ],
      "metadata": {
        "id": "N63TQSD5W9ac"
      }
    },
    {
      "cell_type": "markdown",
      "source": [
        "1. What is the difference between interpreted and compiled languages?\n",
        "    - Compiled languages (e.g., C, C++) are converted into machine code before execution, which makes them faster.\n",
        "\n",
        "    - Interpreted languages (e.g., Python, JavaScript) are executed line-by-line by an interpreter, which is slower but more flexible for scripting and debugging."
      ],
      "metadata": {
        "id": "Oy_lBbb3XYRh"
      }
    },
    {
      "cell_type": "markdown",
      "source": [
        "2. What is exception handling in Python?\n",
        "    - It is a mechanism to handle runtime errors using try, except, finally, and else blocks to prevent the program from crashing.\n",
        "\n",
        "\n",
        "\n",
        "3. What is the purpose of the finally block in exception handling?\n",
        "    - The finally block is always executed, whether an exception occurs or not. It's commonly used for cleanup actions like closing files or releasing resources.\n",
        "\n",
        "4. What is logging in Python?\n",
        "   - Logging records events and errors during program execution. It helps in debugging and monitoring the application's behavior.\n",
        "\n",
        "5. What is the significance of the __del__ method in Python?\n",
        "  - __del__ is a destructor method called when an object is about to be destroyed. It's used to release resources."
      ],
      "metadata": {
        "id": "qRDftB0vXi3V"
      }
    },
    {
      "cell_type": "markdown",
      "source": [
        "6. What is the difference between import and from ... import in Python?\n",
        "    - import module imports the whole module.\n",
        "\n",
        "    - from module import function imports specific functions or classes directly.\n",
        "\n",
        "7. How can you handle multiple exceptions in Python?\n",
        "\n",
        "   You can handle multiple exceptions using:\n",
        "\n",
        "- Multiple except blocks to handle each exception type separately.\n",
        "\n",
        "- A tuple of exceptions in a single except block to handle them together.\n",
        "\n",
        "- A general Exception block to catch all exceptions (used with caution).\n",
        "\n",
        "8. What is the purpose of the with statement when handling files in Python?\n",
        "    - It ensures proper acquisition and release of file resources. Files are automatically closed after the block:\n",
        "\n",
        "\n",
        "\n",
        "\n",
        "\n",
        "\n",
        "\n",
        "\n"
      ],
      "metadata": {
        "id": "eaw90q0DXufl"
      }
    },
    {
      "cell_type": "code",
      "source": [
        "with open('file.txt') as f:\n",
        "    data = f.read()\n"
      ],
      "metadata": {
        "id": "D2tqeGotYpDH"
      },
      "execution_count": null,
      "outputs": []
    },
    {
      "cell_type": "markdown",
      "source": [
        "9. What is the difference between multithreading and multiprocessing?\n",
        "   - Multithreading runs multiple threads in the same process (good for I/O-bound tasks).\n",
        "\n",
        "   - Multiprocessing runs separate processes (good for CPU-bound tasks).\n",
        "\n",
        "10. What are the advantages of using logging in a program?\n",
        "    - Tracks errors and events\n",
        "\n",
        "    - Helps in debugging\n",
        "\n",
        "    - records program execution flow\n",
        "\n",
        "    - Offers different severity levels\n",
        "\n",
        "11. What is memory management in Python?\n",
        "   - It's the process of allocating and freeing memory. Python uses reference counting and a garbage collector to manage memory automatically.\n",
        "\n",
        "12. What are the basic steps involved in exception handling in Python?\n",
        "    - Use try block to wrap risky code\n",
        "\n",
        "    - Catch exceptions with except\n",
        "\n",
        "    - Clean up with finally\n",
        "\n",
        "    - Optionally use else if no exception occurs\n",
        "\n",
        "13. Why is memory management important in Python?\n",
        "    - To avoid memory leaks and ensure efficient use of system resources, especially in large-scale or long-running applications.\n",
        "\n",
        "14. What is the role of try and except in exception handling?\n",
        "    - try: Wraps the code that may raise an exception.\n",
        "\n",
        "    - except: Catches and handles the exception gracefully.\n",
        "\n",
        "15. How does Python's garbage collection system work?\n",
        "    - It uses reference counting and a cyclic garbage collector to automatically delete objects that are no longer needed.\n",
        "\n",
        "16. What is the purpose of the else block in exception handling?\n",
        "    - The else block runs only if no exceptions are raised in the try block. It's used for code that should run after successful execution.\n",
        "\n",
        "17. What are the common logging levels in Python?\n",
        "    - DEBUG\n",
        "\n",
        "    - INFO\n",
        "\n",
        "    - WARNING\n",
        "\n",
        "    - ERROR\n",
        "\n",
        "    - CRITICAL\n",
        "\n",
        "18. What is the difference between os.fork() and multiprocessing in Python?\n",
        "    - os.fork() creates a child process (Unix only) with a copy of the parent’s memory.\n",
        "\n",
        "    - multiprocessing is a cross-platform module that creates independent processes and is easier to manage.\n",
        "\n",
        "19. What is the importance of closing a file in Python?\n",
        "    - Closing a file releases system resources and ensures data is properly written to disk. Not closing may cause memory leaks or data corruption.\n",
        "\n",
        "20. What is the difference between file.read() and file.readline() in Python?\n",
        "    - file.read() reads the entire file as a string.\n",
        "\n",
        "    - file.readline() reads one line at a time.\n",
        "\n",
        "21. What is the logging module in Python used for?\n",
        "    - It is used to record log messages during program execution. It supports multiple levels and flexible output configurations.\n",
        "\n",
        "22. What is the os module in Python used for in file handling?\n",
        "      - The os module provides functions to interact with the operating system, such as:\n",
        "\n",
        "    File/directory creation and removal\n",
        "\n",
        "    Path manipulation\n",
        "\n",
        "    File permission handling\n",
        "\n",
        "23. What are the challenges associated with memory management in Python?\n",
        "    - Managing circular references\n",
        "\n",
        "    - Dealing with large data structures\n",
        "\n",
        "    - Memory leaks from long-lived references\n",
        "\n",
        "    - External resources not handled properly\n",
        "\n",
        "    24. How do you raise an exception manually in Python?\n",
        "    - Using the raise keyword:\n",
        "\n"
      ],
      "metadata": {
        "id": "e-CyEllxZsKI"
      }
    },
    {
      "cell_type": "code",
      "source": [
        "raise ValueError(\"Invalid input\")\n"
      ],
      "metadata": {
        "id": "NFlEwlUibOI5"
      },
      "execution_count": null,
      "outputs": []
    },
    {
      "cell_type": "markdown",
      "source": [
        "25. Why is it important to use multithreading in certain applications?\n",
        "    - Multithreading improves performance in I/O-bound tasks (like file operations or network calls) by allowing multiple operations to run concurrently.\n",
        "\n"
      ],
      "metadata": {
        "id": "2_ZmkL5dbRGg"
      }
    },
    {
      "cell_type": "markdown",
      "source": [
        "# Practical Questions and Answers\n"
      ],
      "metadata": {
        "id": "iNAd9t_3ban6"
      }
    },
    {
      "cell_type": "markdown",
      "source": [
        "1. How can you open a file for writing in Python and write a string to it?"
      ],
      "metadata": {
        "id": "LM5mU1brbmwN"
      }
    },
    {
      "cell_type": "code",
      "source": [
        "with open('file.txt', 'w') as f:\n",
        "    f.write(\"Hello, world!\")\n"
      ],
      "metadata": {
        "id": "TwCGSuj3cC4G"
      },
      "execution_count": 7,
      "outputs": []
    },
    {
      "cell_type": "markdown",
      "source": [
        "2. Write a Python program to read the contents of a file and print each line."
      ],
      "metadata": {
        "id": "xqj-r257cF_W"
      }
    },
    {
      "cell_type": "code",
      "source": [
        "with open('file.txt', 'r') as f:\n",
        "    for line in f:\n",
        "        print(line.strip())\n"
      ],
      "metadata": {
        "colab": {
          "base_uri": "https://localhost:8080/"
        },
        "id": "vq5nH_GGcMS0",
        "outputId": "8b676c57-327f-4fa3-8bbe-a4137088ee98"
      },
      "execution_count": 8,
      "outputs": [
        {
          "output_type": "stream",
          "name": "stdout",
          "text": [
            "Hello, world!\n"
          ]
        }
      ]
    },
    {
      "cell_type": "markdown",
      "source": [
        "3. How would you handle a case where the file doesn't exist while trying to open it for reading?\n"
      ],
      "metadata": {
        "id": "nFgfXB46cVA4"
      }
    },
    {
      "cell_type": "code",
      "source": [
        "try:\n",
        "    with open('nofile.txt', 'r') as f:\n",
        "        content = f.read()\n",
        "except FileNotFoundError:\n",
        "    print(\"File not found.\")\n"
      ],
      "metadata": {
        "colab": {
          "base_uri": "https://localhost:8080/"
        },
        "id": "4pRI6LsocE0J",
        "outputId": "8d422242-e99e-49bd-a23a-e57b87e78782"
      },
      "execution_count": 9,
      "outputs": [
        {
          "output_type": "stream",
          "name": "stdout",
          "text": [
            "File not found.\n"
          ]
        }
      ]
    },
    {
      "cell_type": "markdown",
      "source": [
        "4. Write a Python script that reads from one file and writes its content to another file."
      ],
      "metadata": {
        "id": "1cnA6nQ0cc6o"
      }
    },
    {
      "cell_type": "code",
      "source": [
        "with open('source.txt', 'r') as src, open('destination.txt', 'w') as dest:\n",
        "    dest.write(src.read())\n"
      ],
      "metadata": {
        "id": "d3b2XtSlca7U"
      },
      "execution_count": null,
      "outputs": []
    },
    {
      "cell_type": "markdown",
      "source": [
        "5. How would you catch and handle division by zero error in Python?"
      ],
      "metadata": {
        "id": "BFg-CUD4cmzx"
      }
    },
    {
      "cell_type": "code",
      "source": [
        "try:\n",
        "    result = 10 / 0\n",
        "except ZeroDivisionError:\n",
        "    print(\"Cannot divide by zero.\")\n"
      ],
      "metadata": {
        "colab": {
          "base_uri": "https://localhost:8080/"
        },
        "id": "3DslY3oIcpdP",
        "outputId": "34ca3958-b716-46c2-f1a2-23a391dcdc14"
      },
      "execution_count": 11,
      "outputs": [
        {
          "output_type": "stream",
          "name": "stdout",
          "text": [
            "Cannot divide by zero.\n"
          ]
        }
      ]
    },
    {
      "cell_type": "markdown",
      "source": [
        "6. Write a Python program that logs an error message to a log file when a division by zero exception occurs."
      ],
      "metadata": {
        "id": "6iQfQWltcx6d"
      }
    },
    {
      "cell_type": "code",
      "source": [
        "import logging\n",
        "logging.basicConfig(filename='error.log', level=logging.ERROR)\n",
        "try:\n",
        "    result = 10 / 0\n",
        "except ZeroDivisionError as e:\n",
        "    logging.error(f\"Division by zero error: {e}\")\n"
      ],
      "metadata": {
        "colab": {
          "base_uri": "https://localhost:8080/"
        },
        "id": "MB-pTZBBcu0x",
        "outputId": "50297351-0a5e-4348-f1c0-7c88a5899e98"
      },
      "execution_count": 12,
      "outputs": [
        {
          "output_type": "stream",
          "name": "stderr",
          "text": [
            "ERROR:root:Division by zero error: division by zero\n"
          ]
        }
      ]
    },
    {
      "cell_type": "markdown",
      "source": [
        "7. How do you log information at different levels (INFO, ERROR, WARNING) in Python using the logging module?"
      ],
      "metadata": {
        "id": "xKutP05mc2tO"
      }
    },
    {
      "cell_type": "code",
      "source": [
        "import logging\n",
        "logging.basicConfig(level=logging.DEBUG)\n",
        "logging.info(\"Info message\")\n",
        "logging.warning(\"Warning message\")\n",
        "logging.error(\"Error message\")\n"
      ],
      "metadata": {
        "colab": {
          "base_uri": "https://localhost:8080/"
        },
        "id": "Wzfm3GzPc6Jo",
        "outputId": "43295bdd-3cb4-4b8a-fd95-6cf5d24d50b6"
      },
      "execution_count": 13,
      "outputs": [
        {
          "output_type": "stream",
          "name": "stderr",
          "text": [
            "WARNING:root:Warning message\n",
            "ERROR:root:Error message\n"
          ]
        }
      ]
    },
    {
      "cell_type": "markdown",
      "source": [
        "8. Write a program to handle a file opening error using exception handling."
      ],
      "metadata": {
        "id": "Kj-xboEmc9oa"
      }
    },
    {
      "cell_type": "code",
      "source": [
        "try:\n",
        "    with open('data.txt', 'r') as f:\n",
        "        print(f.read())\n",
        "except FileNotFoundError:\n",
        "    print(\"File not found.\")\n"
      ],
      "metadata": {
        "colab": {
          "base_uri": "https://localhost:8080/"
        },
        "id": "3geG67uidAjg",
        "outputId": "05f7b994-0bb9-4f46-c420-dde1d632406f"
      },
      "execution_count": 14,
      "outputs": [
        {
          "output_type": "stream",
          "name": "stdout",
          "text": [
            "File not found.\n"
          ]
        }
      ]
    },
    {
      "cell_type": "markdown",
      "source": [
        "9. How can you read a file line by line and store its content in a list in Python?\n",
        "\n"
      ],
      "metadata": {
        "id": "G5cuQVf_dDFz"
      }
    },
    {
      "cell_type": "code",
      "source": [
        "with open('file.txt', 'r') as f:\n",
        "    lines = [line.strip() for line in f]\n"
      ],
      "metadata": {
        "id": "Fslx7WhNc1dn"
      },
      "execution_count": 15,
      "outputs": []
    },
    {
      "cell_type": "markdown",
      "source": [
        "10. How can you append data to an existing file in Python?\n"
      ],
      "metadata": {
        "id": "F-RHprc7dLp4"
      }
    },
    {
      "cell_type": "code",
      "source": [
        "with open('file.txt', 'a') as f:\n",
        "    f.write(\"This is a new line.\\n\")\n"
      ],
      "metadata": {
        "id": "Ny-nrq4BdKKs"
      },
      "execution_count": 16,
      "outputs": []
    },
    {
      "cell_type": "markdown",
      "source": [
        "11. Write a Python program that uses a try–except block to handle an error when attempting to access a dictionary key that doesn't exist."
      ],
      "metadata": {
        "id": "fxV5UPSUdZHC"
      }
    },
    {
      "cell_type": "code",
      "source": [
        "data = {'name': 'John'}\n",
        "try:\n",
        "    print(data['age'])\n",
        "except KeyError:\n",
        "    print(\"Key does not exist.\")\n"
      ],
      "metadata": {
        "colab": {
          "base_uri": "https://localhost:8080/"
        },
        "id": "L0iYnyjodVD0",
        "outputId": "3addfd7c-d624-4c0d-d346-2a25a956c28c"
      },
      "execution_count": 17,
      "outputs": [
        {
          "output_type": "stream",
          "name": "stdout",
          "text": [
            "Key does not exist.\n"
          ]
        }
      ]
    },
    {
      "cell_type": "markdown",
      "source": [
        "12. Write a program that demonstrates using multiple except blocks to handle different types of exceptions."
      ],
      "metadata": {
        "id": "F5Wq-Rs-dfg9"
      }
    },
    {
      "cell_type": "code",
      "source": [
        "try:\n",
        "    num = int(\"abc\")\n",
        "    result = 10 / 0\n",
        "except ValueError:\n",
        "    print(\"Invalid value.\")\n",
        "except ZeroDivisionError:\n",
        "    print(\"Division by zero.\")\n"
      ],
      "metadata": {
        "colab": {
          "base_uri": "https://localhost:8080/"
        },
        "id": "9iY5Xclqdd3d",
        "outputId": "4ee408ee-ef91-4ae2-8948-32aca6a33746"
      },
      "execution_count": 18,
      "outputs": [
        {
          "output_type": "stream",
          "name": "stdout",
          "text": [
            "Invalid value.\n"
          ]
        }
      ]
    },
    {
      "cell_type": "markdown",
      "source": [
        "13. How would you check if a file exists before attempting to read it in Python?"
      ],
      "metadata": {
        "id": "xEgGqXjIdmcJ"
      }
    },
    {
      "cell_type": "code",
      "source": [
        "import os\n",
        "if os.path.exists('file.txt'):\n",
        "    with open('file.txt') as f:\n",
        "        print(f.read())\n",
        "else:\n",
        "    print(\"File does not exist.\")\n"
      ],
      "metadata": {
        "colab": {
          "base_uri": "https://localhost:8080/"
        },
        "id": "qNai_cIDdkc7",
        "outputId": "ecbdd784-be80-49f1-8d38-e43bf67c05a8"
      },
      "execution_count": 19,
      "outputs": [
        {
          "output_type": "stream",
          "name": "stdout",
          "text": [
            "Hello, world!This is a new line.\n",
            "\n"
          ]
        }
      ]
    },
    {
      "cell_type": "markdown",
      "source": [
        "14. Write a program that uses the logging module to log both informational and error messages."
      ],
      "metadata": {
        "id": "WCrpzeXLd0xq"
      }
    },
    {
      "cell_type": "code",
      "source": [
        "import logging\n",
        "logging.basicConfig(filename='app.log', level=logging.INFO)\n",
        "logging.info(\"Program started\")\n",
        "try:\n",
        "    1 / 0\n",
        "except ZeroDivisionError:\n",
        "    logging.error(\"Division by zero occurred\")\n"
      ],
      "metadata": {
        "colab": {
          "base_uri": "https://localhost:8080/"
        },
        "id": "4rohL578dq6W",
        "outputId": "33a7eac4-be5e-4fe2-8753-921934a9e9e7"
      },
      "execution_count": 20,
      "outputs": [
        {
          "output_type": "stream",
          "name": "stderr",
          "text": [
            "ERROR:root:Division by zero occurred\n"
          ]
        }
      ]
    },
    {
      "cell_type": "markdown",
      "source": [
        "15. Write a Python program that prints the content of a file and handles the case when the file is empty."
      ],
      "metadata": {
        "id": "V8Jjv8V-d_RI"
      }
    },
    {
      "cell_type": "code",
      "source": [
        "with open('file.txt', 'r') as f:\n",
        "    content = f.read()\n",
        "    if content:\n",
        "        print(content)\n",
        "    else:\n",
        "        print(\"File is empty.\")\n"
      ],
      "metadata": {
        "id": "5UlzJnQ5eD62"
      },
      "execution_count": null,
      "outputs": []
    },
    {
      "cell_type": "markdown",
      "source": [
        "16. Demonstrate how to use memory profiling to check the memory usage of a small program.\n",
        "\n"
      ],
      "metadata": {
        "id": "ja1d9ivxeJ8w"
      }
    },
    {
      "cell_type": "code",
      "source": [
        "# Install using: pip install memory-profiler\n",
        "from memory_profiler import profile\n",
        "\n",
        "@profile\n",
        "def calculate():\n",
        "    data = [i for i in range(10000)]\n",
        "    return sum(data)\n",
        "\n",
        "calculate()\n"
      ],
      "metadata": {
        "id": "JHgehOkmeRz_"
      },
      "execution_count": null,
      "outputs": []
    },
    {
      "cell_type": "markdown",
      "source": [
        "17. Write a Python program to create and write a list of numbers to a file, one number per line."
      ],
      "metadata": {
        "id": "7fMb8GPTeW17"
      }
    },
    {
      "cell_type": "code",
      "source": [
        "numbers = [1, 2, 3, 4, 5]\n",
        "with open('numbers.txt', 'w') as f:\n",
        "    for number in numbers:\n",
        "        f.write(f\"{number}\\n\")\n"
      ],
      "metadata": {
        "id": "TSZNuizHea4i"
      },
      "execution_count": 23,
      "outputs": []
    },
    {
      "cell_type": "markdown",
      "source": [
        "18. How would you implement a basic logging setup that logs to a file with rotation after 1MB?"
      ],
      "metadata": {
        "id": "1ytP3ZNmefMk"
      }
    },
    {
      "cell_type": "code",
      "source": [
        "import logging\n",
        "from logging.handlers import RotatingFileHandler\n",
        "\n",
        "handler = RotatingFileHandler('rotating.log', maxBytes=1_000_000, backupCount=3)\n",
        "logging.basicConfig(handlers=[handler], level=logging.INFO)\n",
        "logging.info(\"This is a test log message.\")\n"
      ],
      "metadata": {
        "id": "8KuFbTx8edqZ"
      },
      "execution_count": 24,
      "outputs": []
    },
    {
      "cell_type": "markdown",
      "source": [
        "19. Write a program that handles both IndexError and KeyError using a try–except block."
      ],
      "metadata": {
        "id": "g4Bedxz-emYj"
      }
    },
    {
      "cell_type": "code",
      "source": [
        "try:\n",
        "    lst = [1, 2]\n",
        "    print(lst[5])\n",
        "    d = {'a': 1}\n",
        "    print(d['b'])\n",
        "except IndexError:\n",
        "    print(\"Index out of range.\")\n",
        "except KeyError:\n",
        "    print(\"Key not found.\")\n"
      ],
      "metadata": {
        "colab": {
          "base_uri": "https://localhost:8080/"
        },
        "id": "r1A0Al0mekto",
        "outputId": "ac6aa572-f867-4696-fa90-3e8977d7591e"
      },
      "execution_count": 25,
      "outputs": [
        {
          "output_type": "stream",
          "name": "stdout",
          "text": [
            "Index out of range.\n"
          ]
        }
      ]
    },
    {
      "cell_type": "markdown",
      "source": [
        "20. How would you open a file and read its contents using a context manager in Python?"
      ],
      "metadata": {
        "id": "0UYtfS4Qev-Y"
      }
    },
    {
      "cell_type": "code",
      "source": [
        "with open('file.txt', 'r') as f:\n",
        "    content = f.read()\n",
        "    print(content)\n"
      ],
      "metadata": {
        "id": "PBr3A5EPezqv"
      },
      "execution_count": null,
      "outputs": []
    },
    {
      "cell_type": "markdown",
      "source": [
        "21. Write a Python program that reads a file and prints the number of occurrences of a specific word."
      ],
      "metadata": {
        "id": "7H564i8De5y4"
      }
    },
    {
      "cell_type": "code",
      "source": [
        "word = \"python\"\n",
        "count = 0\n",
        "with open('file.txt', 'r') as f:\n",
        "    for line in f:\n",
        "        count += line.lower().count(word.lower())\n",
        "print(f\"The word '{word}' appears {count} times.\")\n"
      ],
      "metadata": {
        "colab": {
          "base_uri": "https://localhost:8080/"
        },
        "id": "7lnHIyr1e-lw",
        "outputId": "8e00ce98-02a2-431b-d956-1048ca8f7a92"
      },
      "execution_count": 27,
      "outputs": [
        {
          "output_type": "stream",
          "name": "stdout",
          "text": [
            "The word 'python' appears 0 times.\n"
          ]
        }
      ]
    },
    {
      "cell_type": "markdown",
      "source": [
        "22. How can you check if a file is empty before attempting to read its contents?\n",
        "\n"
      ],
      "metadata": {
        "id": "r_7igOdhfCcF"
      }
    },
    {
      "cell_type": "code",
      "source": [
        "import os\n",
        "if os.path.getsize('file.txt') == 0:\n",
        "    print(\"File is empty.\")\n",
        "else:\n",
        "    with open('file.txt', 'r') as f:\n",
        "        print(f.read())\n"
      ],
      "metadata": {
        "id": "6ZKnuWR1fKLC"
      },
      "execution_count": null,
      "outputs": []
    },
    {
      "cell_type": "markdown",
      "source": [
        "23. Write a Python program that writes to a log file when an error occurs during file handling."
      ],
      "metadata": {
        "id": "LGojBXLofOMe"
      }
    },
    {
      "cell_type": "code",
      "source": [
        "import logging\n",
        "logging.basicConfig(filename='file_errors.log', level=logging.ERROR)\n",
        "\n",
        "try:\n",
        "    with open('nofile.txt', 'r') as f:\n",
        "        content = f.read()\n",
        "except FileNotFoundError as e:\n",
        "    logging.error(f\"File error: {e}\")\n"
      ],
      "metadata": {
        "colab": {
          "base_uri": "https://localhost:8080/"
        },
        "id": "FF87mGvAfSE2",
        "outputId": "b65d3212-96cb-40cc-9809-9aef6327c9b0"
      },
      "execution_count": 29,
      "outputs": [
        {
          "output_type": "stream",
          "name": "stderr",
          "text": [
            "ERROR:root:File error: [Errno 2] No such file or directory: 'nofile.txt'\n"
          ]
        }
      ]
    },
    {
      "cell_type": "code",
      "source": [],
      "metadata": {
        "id": "m_5WeUdEfUHu"
      },
      "execution_count": null,
      "outputs": []
    }
  ]
}